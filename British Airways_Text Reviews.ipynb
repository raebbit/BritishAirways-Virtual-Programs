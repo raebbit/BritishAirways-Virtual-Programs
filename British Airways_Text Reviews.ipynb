{
 "cells": [
  {
   "cell_type": "code",
   "execution_count": 2,
   "id": "18103064",
   "metadata": {},
   "outputs": [],
   "source": [
    "import requests\n",
    "from bs4 import BeautifulSoup\n",
    "import pandas as pd"
   ]
  },
  {
   "cell_type": "code",
   "execution_count": 18,
   "id": "a508da66",
   "metadata": {},
   "outputs": [
    {
     "name": "stdout",
     "output_type": "stream",
     "text": [
      "Scraping page 1\n",
      "   ---> 100 total reviews\n",
      "Scraping page 2\n",
      "   ---> 200 total reviews\n",
      "Scraping page 3\n",
      "   ---> 300 total reviews\n",
      "Scraping page 4\n",
      "   ---> 400 total reviews\n",
      "Scraping page 5\n",
      "   ---> 500 total reviews\n",
      "Scraping page 6\n",
      "   ---> 600 total reviews\n",
      "Scraping page 7\n",
      "   ---> 700 total reviews\n",
      "Scraping page 8\n",
      "   ---> 800 total reviews\n",
      "Scraping page 9\n",
      "   ---> 900 total reviews\n",
      "Scraping page 10\n",
      "   ---> 1000 total reviews\n",
      "Scraping page 11\n",
      "   ---> 1100 total reviews\n",
      "Scraping page 12\n",
      "   ---> 1200 total reviews\n",
      "Scraping page 13\n",
      "   ---> 1300 total reviews\n",
      "Scraping page 14\n",
      "   ---> 1400 total reviews\n",
      "Scraping page 15\n",
      "   ---> 1500 total reviews\n",
      "Scraping page 16\n",
      "   ---> 1600 total reviews\n",
      "Scraping page 17\n",
      "   ---> 1700 total reviews\n",
      "Scraping page 18\n",
      "   ---> 1800 total reviews\n",
      "Scraping page 19\n",
      "   ---> 1900 total reviews\n",
      "Scraping page 20\n",
      "   ---> 2000 total reviews\n",
      "Scraping page 21\n",
      "   ---> 2100 total reviews\n",
      "Scraping page 22\n",
      "   ---> 2200 total reviews\n",
      "Scraping page 23\n",
      "   ---> 2300 total reviews\n",
      "Scraping page 24\n",
      "   ---> 2400 total reviews\n",
      "Scraping page 25\n",
      "   ---> 2500 total reviews\n",
      "Scraping page 26\n",
      "   ---> 2600 total reviews\n",
      "Scraping page 27\n",
      "   ---> 2700 total reviews\n",
      "Scraping page 28\n",
      "   ---> 2800 total reviews\n",
      "Scraping page 29\n",
      "   ---> 2900 total reviews\n",
      "Scraping page 30\n",
      "   ---> 3000 total reviews\n",
      "Scraping page 31\n",
      "   ---> 3100 total reviews\n",
      "Scraping page 32\n",
      "   ---> 3200 total reviews\n",
      "Scraping page 33\n",
      "   ---> 3300 total reviews\n",
      "Scraping page 34\n",
      "   ---> 3400 total reviews\n"
     ]
    }
   ],
   "source": [
    "# Web Scraping for Text Reviews\n",
    "\n",
    "base_url = \"https://www.airlinequality.com/airline-reviews/british-airways\"\n",
    "pages = 34\n",
    "page_size = 100\n",
    "\n",
    "reviews = []\n",
    "\n",
    "# for i in range(1, pages + 1):\n",
    "for i in range(1, pages + 1):\n",
    "\n",
    "    print(f\"Scraping page {i}\")\n",
    "\n",
    "    # Create URL to collect links from paginated data\n",
    "    url = f\"{base_url}/page/{i}/?sortby=post_date%3ADesc&pagesize={page_size}\"\n",
    "\n",
    "    # Collect HTML data from this page\n",
    "    response = requests.get(url)\n",
    "\n",
    "    # Parse content\n",
    "    content = response.content\n",
    "    parsed_content = BeautifulSoup(content, 'html.parser')\n",
    "    for para in parsed_content.find_all(\"div\", {\"class\": \"text_content\"}):\n",
    "        reviews.append(para.get_text())\n",
    "    \n",
    "    print(f\"   ---> {len(reviews)} total reviews\")"
   ]
  },
  {
   "cell_type": "code",
   "execution_count": 52,
   "id": "5888b3e2",
   "metadata": {},
   "outputs": [
    {
     "data": {
      "text/html": [
       "<div>\n",
       "<style scoped>\n",
       "    .dataframe tbody tr th:only-of-type {\n",
       "        vertical-align: middle;\n",
       "    }\n",
       "\n",
       "    .dataframe tbody tr th {\n",
       "        vertical-align: top;\n",
       "    }\n",
       "\n",
       "    .dataframe thead th {\n",
       "        text-align: right;\n",
       "    }\n",
       "</style>\n",
       "<table border=\"1\" class=\"dataframe\">\n",
       "  <thead>\n",
       "    <tr style=\"text-align: right;\">\n",
       "      <th></th>\n",
       "      <th>reviews</th>\n",
       "    </tr>\n",
       "  </thead>\n",
       "  <tbody>\n",
       "    <tr>\n",
       "      <th>0</th>\n",
       "      <td>✅ Trip Verified |  Flew ATL to LHR 8th Jan 202...</td>\n",
       "    </tr>\n",
       "    <tr>\n",
       "      <th>1</th>\n",
       "      <td>Not Verified |  Great thing about British Airw...</td>\n",
       "    </tr>\n",
       "    <tr>\n",
       "      <th>2</th>\n",
       "      <td>Not Verified | The staff are friendly. The pla...</td>\n",
       "    </tr>\n",
       "    <tr>\n",
       "      <th>3</th>\n",
       "      <td>✅ Trip Verified | Probably the worst business ...</td>\n",
       "    </tr>\n",
       "    <tr>\n",
       "      <th>4</th>\n",
       "      <td>✅ Trip Verified | Definitely not recommended, ...</td>\n",
       "    </tr>\n",
       "  </tbody>\n",
       "</table>\n",
       "</div>"
      ],
      "text/plain": [
       "                                             reviews\n",
       "0  ✅ Trip Verified |  Flew ATL to LHR 8th Jan 202...\n",
       "1  Not Verified |  Great thing about British Airw...\n",
       "2  Not Verified | The staff are friendly. The pla...\n",
       "3  ✅ Trip Verified | Probably the worst business ...\n",
       "4  ✅ Trip Verified | Definitely not recommended, ..."
      ]
     },
     "execution_count": 52,
     "metadata": {},
     "output_type": "execute_result"
    }
   ],
   "source": [
    "df = pd.DataFrame()\n",
    "df[\"reviews\"] = reviews\n",
    "df.head()"
   ]
  },
  {
   "cell_type": "code",
   "execution_count": 26,
   "id": "bb120a99",
   "metadata": {},
   "outputs": [
    {
     "data": {
      "text/plain": [
       "[['✅ Trip Verified |  Flew ATL to LHR 8th Jan 2023. Was unlucky enough to be on board a 23 year old 777. Refit gave it a decent IFE screen and the seat looked decent. Although combine the IFE with the cheap and nasty earbuds, and any movie can be ruined. Headrest was great, just a pity little padding is used on the seat as my Wife and I were very uncomfortable. The leg room in general is poor, especially when passengers keep their seat reclined from start to finish. Zero room. Aircraft was tired. Rubber spacers falling out, silicone sealer falling apart in the toilets. Toilet seats old, stained. Rubber on arm rest was hanging off. No post take off drinks/snacks offered.  Meal was sent out after a couple of hours. Was poor. Chicken cubes that reminded me of dog food, mashed potatoes that were purified within an inch of their life. Stale rock hard roll, salad which was rice and carrots?! Dried crackers with no cheese. Kids meal was just as sad. Tiny leaf salad with enough dressing to refloat a shipwreck. Coffee creamer was given with the kids meal? Snack was decent for the adults, bagel with cheese and egg. Hot and tasty. Kids snack was a green wrap with spinach and onions in it.  Very very poor. Mix the food, BA service with a grunt, being crammed into a seat for 7 hours, landing at a remote stand and enduring a bus to the terminal and BA in my opinion, is terrible. This flight was so disappointing. Other than one great member of cabin crew, everything else was just average.'],\n",
       " ['Not Verified |  Great thing about British Airways A380 is the economy section upstairs. Get this if you can as it allows you to have small stowage cupboards at the window seats. Despite being not very old, the A380 looked tired inside. Broken side stowage, a seat that reclined uncontrollably and slow to react IFE. The food was supposed to be Christmas dinner. 3 wafer thin bits of dry turkey, 4 over cooked sprouts and some cubed potatoes. Poor in taste and quality. Mousse desert was great though. Slight issue during the snack meal. Ordered a childs option which was marked as such. Regular meal arrived as well and they were exactly the same. Asked a crew member to be told the difference was the sticker on the box. Staff were ok. Couple decent but mostly just ok. Overall, BA just seems a tad cheap these days. Great to sit upstairs but that was where the enjoyment ended. Just seemed a bit dull and like BA are just an average airline.\\r\\n']]"
      ]
     },
     "execution_count": 26,
     "metadata": {},
     "output_type": "execute_result"
    }
   ],
   "source": [
    "# Data Type Check\n",
    "df.iloc[0:2].values.tolist()"
   ]
  },
  {
   "cell_type": "code",
   "execution_count": 70,
   "id": "0eac5ec1",
   "metadata": {},
   "outputs": [
    {
     "data": {
      "text/plain": [
       "[['   Flew ATL to LHR 8th Jan 2023. Was unlucky enough to be on board a 23 year old 777. Refit gave it a decent IFE screen and the seat looked decent. Although combine the IFE with the cheap and nasty earbuds, and any movie can be ruined. Headrest was great, just a pity little padding is used on the seat as my Wife and I were very uncomfortable. The leg room in general is poor, especially when passengers keep their seat reclined from start to finish. Zero room. Aircraft was tired. Rubber spacers falling out, silicone sealer falling apart in the toilets. Toilet seats old, stained. Rubber on arm rest was hanging off. No post take off drinks/snacks offered.  Meal was sent out after a couple of hours. Was poor. Chicken cubes that reminded me of dog food, mashed potatoes that were purified within an inch of their life. Stale rock hard roll, salad which was rice and carrots?! Dried crackers with no cheese. Kids meal was just as sad. Tiny leaf salad with enough dressing to refloat a shipwreck. Coffee creamer was given with the kids meal? Snack was decent for the adults, bagel with cheese and egg. Hot and tasty. Kids snack was a green wrap with spinach and onions in it.  Very very poor. Mix the food, BA service with a grunt, being crammed into a seat for 7 hours, landing at a remote stand and enduring a bus to the terminal and BA in my opinion, is terrible. This flight was so disappointing. Other than one great member of cabin crew, everything else was just average.'],\n",
       " ['   Great thing about British Airways A380 is the economy section upstairs. Get this if you can as it allows you to have small stowage cupboards at the window seats. Despite being not very old, the A380 looked tired inside. Broken side stowage, a seat that reclined uncontrollably and slow to react IFE. The food was supposed to be Christmas dinner. 3 wafer thin bits of dry turkey, 4 over cooked sprouts and some cubed potatoes. Poor in taste and quality. Mousse desert was great though. Slight issue during the snack meal. Ordered a childs option which was marked as such. Regular meal arrived as well and they were exactly the same. Asked a crew member to be told the difference was the sticker on the box. Staff were ok. Couple decent but mostly just ok. Overall, BA just seems a tad cheap these days. Great to sit upstairs but that was where the enjoyment ended. Just seemed a bit dull and like BA are just an average airline.']]"
      ]
     },
     "execution_count": 70,
     "metadata": {},
     "output_type": "execute_result"
    }
   ],
   "source": [
    "# Remove any unnecessary text from each of the rows\n",
    "\n",
    "# words_todel = ['✅ Trip Verified', 'Not Verified', '|', '\\r\\n']\n",
    "pat = r\"\\||Not Verified|✅ Trip Verified|\\r\\n\"\n",
    "               \n",
    "df[\"reviews\"]=df[\"reviews\"].str.replace(pat,\"\", regex=True)  # regex=True\n",
    "\n",
    "# Check the data if the unnecessary text was removed\n",
    "df.iloc[0:2].values.tolist()"
   ]
  },
  {
   "cell_type": "markdown",
   "id": "7c884bdb",
   "metadata": {},
   "source": [
    "### To do: \n",
    "* pandas.Series.str.replace ----> what is 'pat'? / how to code 'pat'? - RegEx\n",
    "* what is the 'Question' for the data(text data)?\n",
    "* Which analysis method is the best method for the 'Question'?\n",
    "* What is 'Text classification'? ( NLP, sentiment Analysis, Topic Analysis?)\n",
    "* Text Extraction ( Keyword Extraction, etc.)\n",
    "* Word Frequency\n"
   ]
  },
  {
   "cell_type": "code",
   "execution_count": null,
   "id": "aa82f8fc",
   "metadata": {},
   "outputs": [],
   "source": []
  }
 ],
 "metadata": {
  "kernelspec": {
   "display_name": "Python 3 (ipykernel)",
   "language": "python",
   "name": "python3"
  },
  "language_info": {
   "codemirror_mode": {
    "name": "ipython",
    "version": 3
   },
   "file_extension": ".py",
   "mimetype": "text/x-python",
   "name": "python",
   "nbconvert_exporter": "python",
   "pygments_lexer": "ipython3",
   "version": "3.9.13"
  }
 },
 "nbformat": 4,
 "nbformat_minor": 5
}
