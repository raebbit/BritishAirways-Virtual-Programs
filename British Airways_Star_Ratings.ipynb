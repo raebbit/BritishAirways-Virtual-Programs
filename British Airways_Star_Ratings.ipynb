{
 "cells": [
  {
   "cell_type": "code",
   "execution_count": 121,
   "id": "c40afab5",
   "metadata": {},
   "outputs": [
    {
     "data": {
      "text/plain": [
       "'1.4.4'"
      ]
     },
     "execution_count": 121,
     "metadata": {},
     "output_type": "execute_result"
    }
   ],
   "source": [
    "import requests\n",
    "from bs4 import BeautifulSoup\n",
    "import pandas as pd\n",
    "pd.__version__"
   ]
  },
  {
   "cell_type": "code",
   "execution_count": 122,
   "id": "957022fb",
   "metadata": {},
   "outputs": [
    {
     "name": "stdout",
     "output_type": "stream",
     "text": [
      "Classes of each table:\n",
      "['review-ratings']\n",
      "['review-ratings']\n",
      "['review-ratings']\n",
      "['review-ratings']\n",
      "['review-ratings']\n",
      "['review-ratings']\n",
      "['review-ratings']\n",
      "['review-ratings']\n",
      "['review-ratings']\n",
      "['review-ratings']\n",
      "['review-ratings']\n"
     ]
    }
   ],
   "source": [
    "# Web Scraping \n",
    "\n",
    "# Downloading contents of the web page\n",
    "base_url = \"https://www.airlinequality.com/airline-reviews/british-airways\"\n",
    "data = requests.get(base_url).text\n",
    "\n",
    "# Creating BeautifulSoup object\n",
    "soup = BeautifulSoup(data, 'html.parser')\n",
    "\n",
    "#Verifying tables and their classes\n",
    "print('Classes of each table:')\n",
    "for table in soup.find_all('table'):\n",
    "    print(table.get('class'))\n",
    "    \n",
    "    \n",
    "# Tables have the same class"
   ]
  },
  {
   "cell_type": "code",
   "execution_count": 125,
   "id": "2f785547",
   "metadata": {
    "scrolled": true
   },
   "outputs": [
    {
     "name": "stdout",
     "output_type": "stream",
     "text": [
      "1\n",
      "[<span class=\"star fill\">1</span>]\n",
      "string:  Seat Comfort parent element:  <tr>\n",
      "<td class=\"review-rating-header seat_comfort\">Seat Comfort</td>\n",
      "<td class=\"review-rating-stars stars\"><span class=\"star fill\">1</span><span class=\"star\">2</span><span class=\"star\">3</span><span class=\"star\">4</span><span class=\"star\">5</span></td>\n",
      "</tr>\n",
      "========================================================================================\n",
      "3\n",
      "[<span class=\"star fill\">1</span>, <span class=\"star fill\">2</span>, <span class=\"star fill\">3</span>]\n",
      "string:  Seat Comfort parent element:  <tr>\n",
      "<td class=\"review-rating-header seat_comfort\">Seat Comfort</td>\n",
      "<td class=\"review-rating-stars stars\"><span class=\"star fill\">1</span><span class=\"star fill\">2</span><span class=\"star fill\">3</span><span class=\"star\">4</span><span class=\"star\">5</span></td>\n",
      "</tr>\n",
      "========================================================================================\n",
      "1\n",
      "[<span class=\"star fill\">1</span>]\n",
      "string:  Seat Comfort parent element:  <tr>\n",
      "<td class=\"review-rating-header seat_comfort\">Seat Comfort</td>\n",
      "<td class=\"review-rating-stars stars\"><span class=\"star fill\">1</span><span class=\"star\">2</span><span class=\"star\">3</span><span class=\"star\">4</span><span class=\"star\">5</span></td>\n",
      "</tr>\n",
      "========================================================================================\n",
      "1\n",
      "[<span class=\"star fill\">1</span>]\n",
      "string:  Seat Comfort parent element:  <tr>\n",
      "<td class=\"review-rating-header seat_comfort\">Seat Comfort</td>\n",
      "<td class=\"review-rating-stars stars\"><span class=\"star fill\">1</span><span class=\"star\">2</span><span class=\"star\">3</span><span class=\"star\">4</span><span class=\"star\">5</span></td>\n",
      "</tr>\n",
      "========================================================================================\n",
      "2\n",
      "[<span class=\"star fill\">1</span>, <span class=\"star fill\">2</span>]\n",
      "string:  Seat Comfort parent element:  <tr>\n",
      "<td class=\"review-rating-header seat_comfort\">Seat Comfort</td>\n",
      "<td class=\"review-rating-stars stars\"><span class=\"star fill\">1</span><span class=\"star fill\">2</span><span class=\"star\">3</span><span class=\"star\">4</span><span class=\"star\">5</span></td>\n",
      "</tr>\n",
      "========================================================================================\n",
      "4\n",
      "[<span class=\"star fill\">1</span>, <span class=\"star fill\">2</span>, <span class=\"star fill\">3</span>, <span class=\"star fill\">4</span>]\n",
      "string:  Seat Comfort parent element:  <tr>\n",
      "<td class=\"review-rating-header seat_comfort\">Seat Comfort</td>\n",
      "<td class=\"review-rating-stars stars\"><span class=\"star fill\">1</span><span class=\"star fill\">2</span><span class=\"star fill\">3</span><span class=\"star fill\">4</span><span class=\"star\">5</span></td>\n",
      "</tr>\n",
      "========================================================================================\n",
      "5\n",
      "[<span class=\"star fill\">1</span>, <span class=\"star fill\">2</span>, <span class=\"star fill\">3</span>, <span class=\"star fill\">4</span>, <span class=\"star fill\">5</span>]\n",
      "string:  Seat Comfort parent element:  <tr>\n",
      "<td class=\"review-rating-header seat_comfort\">Seat Comfort</td>\n",
      "<td class=\"review-rating-stars stars\"><span class=\"star fill\">1</span><span class=\"star fill\">2</span><span class=\"star fill\">3</span><span class=\"star fill\">4</span><span class=\"star fill\">5</span></td>\n",
      "</tr>\n",
      "========================================================================================\n",
      "3\n",
      "[<span class=\"star fill\">1</span>, <span class=\"star fill\">2</span>, <span class=\"star fill\">3</span>]\n",
      "string:  Seat Comfort parent element:  <tr>\n",
      "<td class=\"review-rating-header seat_comfort\">Seat Comfort</td>\n",
      "<td class=\"review-rating-stars stars\"><span class=\"star fill\">1</span><span class=\"star fill\">2</span><span class=\"star fill\">3</span><span class=\"star\">4</span><span class=\"star\">5</span></td>\n",
      "</tr>\n",
      "========================================================================================\n",
      "3\n",
      "[<span class=\"star fill\">1</span>, <span class=\"star fill\">2</span>, <span class=\"star fill\">3</span>]\n",
      "string:  Seat Comfort parent element:  <tr>\n",
      "<td class=\"review-rating-header seat_comfort\">Seat Comfort</td>\n",
      "<td class=\"review-rating-stars stars\"><span class=\"star fill\">1</span><span class=\"star fill\">2</span><span class=\"star fill\">3</span><span class=\"star\">4</span><span class=\"star\">5</span></td>\n",
      "</tr>\n",
      "========================================================================================\n",
      "4\n",
      "[<span class=\"star fill\">1</span>, <span class=\"star fill\">2</span>, <span class=\"star fill\">3</span>, <span class=\"star fill\">4</span>]\n",
      "string:  Seat Comfort parent element:  <tr>\n",
      "<td class=\"review-rating-header seat_comfort\">Seat Comfort</td>\n",
      "<td class=\"review-rating-stars stars\"><span class=\"star fill\">1</span><span class=\"star fill\">2</span><span class=\"star fill\">3</span><span class=\"star fill\">4</span><span class=\"star\">5</span></td>\n",
      "</tr>\n",
      "========================================================================================\n"
     ]
    }
   ],
   "source": [
    "# thing = soup.find(\"div\", {\"class\": \"review-stats\"})\n",
    "thing = soup.select(\".review-stats > table > tr > td\")\n",
    "\n",
    "# get the Star Rating for the 'Seat Comfort' from the first page (10 Reviews)\n",
    "for ch in thing:\n",
    "    for ch1 in ch.children:\n",
    "        if ch1.string == \"Seat Comfort\":\n",
    "            # Put 'star fill' in the list --> that is the rating for the 'Seat Comfort'\n",
    "            my_list = ch1.parent.parent.find_all(\"span\", class_=\"star fill\")\n",
    "            print(len(my_list))\n",
    "            print(my_list)\n",
    "            print(\"string: \", ch1.string, \"parent element: \", ch1.parent.parent)\n",
    "            print(\"========================================================================================\")\n"
   ]
  },
  {
   "cell_type": "markdown",
   "id": "f9c66c79",
   "metadata": {},
   "source": [
    "## To do:\n",
    "\n",
    "* Decide which evaluation factors I am going to use (Questions for the data)\n",
    "* Get the star rating (at least 3400 reviews) data for the factors\n",
    "* Classification Model"
   ]
  },
  {
   "cell_type": "code",
   "execution_count": null,
   "id": "62e7c6e2",
   "metadata": {},
   "outputs": [],
   "source": []
  }
 ],
 "metadata": {
  "kernelspec": {
   "display_name": "Python 3 (ipykernel)",
   "language": "python",
   "name": "python3"
  },
  "language_info": {
   "codemirror_mode": {
    "name": "ipython",
    "version": 3
   },
   "file_extension": ".py",
   "mimetype": "text/x-python",
   "name": "python",
   "nbconvert_exporter": "python",
   "pygments_lexer": "ipython3",
   "version": "3.9.13"
  }
 },
 "nbformat": 4,
 "nbformat_minor": 5
}
